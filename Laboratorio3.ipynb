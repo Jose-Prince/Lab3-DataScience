{
 "cells": [
  {
   "cell_type": "markdown",
   "id": "6a189434-b9c0-4513-9f7f-a1a6dedb3d68",
   "metadata": {},
   "source": [
    "# Laboratorio 3\n",
    "\n",
    "- José Prince\n",
    "- Diego Linares\n",
    "\n",
    "En este laboratorio se trabajará con el dataset de Kaggle: https://www.kaggle.com/datasets/agungpambudi/mnist-multiple-dataset-comprehensive-analysis/data\n"
   ]
  },
  {
   "cell_type": "markdown",
   "id": "ef0ca48f-c463-40ed-904a-87036c40de42",
   "metadata": {},
   "source": [
    "## Analisis exploratorio"
   ]
  },
  {
   "cell_type": "markdown",
   "id": "fd6f97e4-ee7b-4678-981f-e715688630b2",
   "metadata": {},
   "source": [
    "## Modelos CNN"
   ]
  },
  {
   "cell_type": "markdown",
   "id": "2c27ba3c-6571-498c-b6e7-33bb2b7e8140",
   "metadata": {},
   "source": [
    "## Modelo simple"
   ]
  },
  {
   "cell_type": "code",
   "execution_count": null,
   "id": "b64a80fd-2239-4f29-9173-d4b451a0a841",
   "metadata": {},
   "outputs": [],
   "source": []
  }
 ],
 "metadata": {
  "kernelspec": {
   "display_name": "Python 3 (ipykernel)",
   "language": "python",
   "name": "python3"
  },
  "language_info": {
   "codemirror_mode": {
    "name": "ipython",
    "version": 3
   },
   "file_extension": ".py",
   "mimetype": "text/x-python",
   "name": "python",
   "nbconvert_exporter": "python",
   "pygments_lexer": "ipython3",
   "version": "3.13.3"
  }
 },
 "nbformat": 4,
 "nbformat_minor": 5
}
